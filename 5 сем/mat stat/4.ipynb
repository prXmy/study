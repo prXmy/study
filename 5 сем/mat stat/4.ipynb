{
 "cells": [
  {
   "cell_type": "code",
   "execution_count": 1,
   "id": "ddc28381-25af-45c9-9661-dd03dcebd494",
   "metadata": {},
   "outputs": [],
   "source": [
    "import numpy as np\n",
    "import scipy.stats as stats"
   ]
  },
  {
   "cell_type": "code",
   "execution_count": 2,
   "id": "82b2c822-1d78-423d-bd23-059c4cbc14e1",
   "metadata": {},
   "outputs": [
    {
     "name": "stdout",
     "output_type": "stream",
     "text": [
      "5.190763888888889\n",
      "6.1465\n"
     ]
    }
   ],
   "source": [
    "# Заданные значения\n",
    "mean = 3  \n",
    "sigma = 2  \n",
    "sample = np.array([0.8, 5.0, 3.6, 0.0, 1.8, 6.3, -1.9, 2.1, 5.5, 1.3, 1.6, 2.8])\n",
    "n = len(sample) # 12\n",
    "#вторая выборка \n",
    "mean1 = 4\n",
    "sigma1 = 2\n",
    "sample1 = np.array([1.8, 6.0, 4.6, 1.0, 2.8, 7.3, -0.9, 3.1, 6.5, 2.3])\n",
    "n1 = len(sample1) # 10\n",
    "\n",
    "confidence_level = 0.85  # Уровень доверия\n",
    "alpha = 1 - confidence_level\n",
    "# а дисперсии то и не равные выходят\n",
    "print(np.var(sample))\n",
    "print(np.var(sample1))"
   ]
  },
  {
   "cell_type": "code",
   "execution_count": 3,
   "id": "2e3e13d0-35a0-458b-ae47-1fe2e2f3188b",
   "metadata": {},
   "outputs": [],
   "source": [
    "#первое задание"
   ]
  },
  {
   "cell_type": "code",
   "execution_count": 4,
   "id": "d272820c-b275-407f-b816-7569ee5c77f3",
   "metadata": {},
   "outputs": [
    {
     "name": "stdout",
     "output_type": "stream",
     "text": [
      "85%-й доверительный интервал для математического ожидания: (1.5772194510800779, 3.2394472155865897)\n"
     ]
    }
   ],
   "source": [
    "#1\n",
    "# Находим z-значение для данного уровня доверия\n",
    "z_value = stats.norm.ppf((1 + confidence_level) / 2)\n",
    "# Вычисляем доверительный интервал\n",
    "lower_bound = np.mean(sample) - z_value * (sigma / np.sqrt(n))\n",
    "upper_bound = np.mean(sample) + z_value * (sigma / np.sqrt(n))\n",
    "\n",
    "print(f\"85%-й доверительный интервал для математического ожидания: ({lower_bound}, {upper_bound})\")"
   ]
  },
  {
   "cell_type": "code",
   "execution_count": 5,
   "id": "3c59c772-4370-4048-bc59-583a9c129ac0",
   "metadata": {},
   "outputs": [
    {
     "name": "stdout",
     "output_type": "stream",
     "text": [
      "Доверительный интервал: [1.3452514304894567, 3.4714152361772106]\n"
     ]
    }
   ],
   "source": [
    "#2\n",
    "# Расчет выборочного среднего и выборочной дисперсии\n",
    "sample_mean = np.mean(sample)\n",
    "sample_std = np.std(sample, ddof=1)\n",
    "t_value = stats.t.ppf(1 - alpha/2, df=n-1)\n",
    "# Расчет доверительного интервала\n",
    "margin_of_error = t_value * sample_std / np.sqrt(n)\n",
    "lower_bound = sample_mean - margin_of_error\n",
    "upper_bound = sample_mean + margin_of_error\n",
    "print(f\"Доверительный интервал: [{lower_bound}, {upper_bound}]\")"
   ]
  },
  {
   "cell_type": "code",
   "execution_count": 6,
   "id": "f0a53011-c020-4464-a26d-6fe1e225215a",
   "metadata": {},
   "outputs": [
    {
     "name": "stdout",
     "output_type": "stream",
     "text": [
      "Доверительный интервал для дисперсии: [0.6559449055245579, 2.341805193736772]\n"
     ]
    }
   ],
   "source": [
    "#3\n",
    "s2 = np.var(sample, ddof=1)\n",
    "df = n - 1\n",
    "sample_mean = np.mean(sample)\n",
    "mean_diff = np.mean((sample - sample_mean)**2)\n",
    "lower = (n-1) * s2 / stats.chi2.ppf(1-alpha/2, df) / mean_diff\n",
    "upper = (n-1) * s2 / stats.chi2.ppf(alpha/2, df) / mean_diff\n",
    "print(f\"Доверительный интервал для дисперсии: [{lower}, {upper}]\")"
   ]
  },
  {
   "cell_type": "code",
   "execution_count": 7,
   "id": "9b32de90-e5b3-466d-a9ac-1a076a0644fd",
   "metadata": {},
   "outputs": [
    {
     "name": "stdout",
     "output_type": "stream",
     "text": [
      "85% доверительный интервал для дисперсии: [0.614502354404724, 2.1938501130024872]\n"
     ]
    }
   ],
   "source": [
    "#4\n",
    "s2 = np.var(sample, ddof=1)\n",
    "df = n - 1\n",
    "mean_diff = np.mean((sample - mean)**2)\n",
    "lower = (n-1) * s2 / stats.chi2.ppf(1-alpha/2, df) / mean_diff\n",
    "upper = (n-1) * s2 / stats.chi2.ppf(alpha/2, df) / mean_diff\n",
    "print(f\"85% доверительный интервал для дисперсии: [{lower}, {upper}]\")"
   ]
  },
  {
   "cell_type": "code",
   "execution_count": 8,
   "id": "8f034cbe-5393-4854-b782-7ee4e777fdeb",
   "metadata": {},
   "outputs": [],
   "source": [
    "#второе задание"
   ]
  },
  {
   "cell_type": "code",
   "execution_count": 9,
   "id": "b8097ae3-0cd0-4a5d-abb8-e1ad38d91246",
   "metadata": {},
   "outputs": [
    {
     "name": "stdout",
     "output_type": "stream",
     "text": [
      "85% доверительный интервал для разницы математических ожиданий: [-2.6784437236122436, 0.6784437236122436]\n"
     ]
    }
   ],
   "source": [
    "#1\n",
    "# Критическое значение для 85%-го доверительного интервала\n",
    "z = 1.96\n",
    "# Вычисление доверительного интервала\n",
    "lower = mean - mean1 - z * np.sqrt(sigma**2 / n + sigma1**2 / n1)\n",
    "upper = mean - mean1 + z * np.sqrt(sigma**2 / n + sigma1**2 / n1)\n",
    "\n",
    "print(f\"85% доверительный интервал для разницы математических ожиданий: [{lower}, {upper}]\")"
   ]
  },
  {
   "cell_type": "code",
   "execution_count": 10,
   "id": "306364b5-51e8-4b48-afab-696d26b8581b",
   "metadata": {},
   "outputs": [
    {
     "name": "stdout",
     "output_type": "stream",
     "text": [
      "Доверительный интервал: [-2.143424473045521, 0.14342447304552097]\n"
     ]
    }
   ],
   "source": [
    "#2\n",
    "var = np.var(sample, ddof=1)\n",
    "var1 = np.var(sample1, ddof=1)\n",
    "# Квантиль распределения Стьюдента\n",
    "t_val = stats.t.ppf(0.85, n + n1 - 2)\n",
    "\n",
    "# Доверительный интервал\n",
    "margin = t_val * np.sqrt(var / n + var1 / n1)\n",
    "lower = mean - mean1 - margin\n",
    "upper = mean - mean1 + margin\n",
    "\n",
    "print(f\"Доверительный интервал: [{lower}, {upper}]\")"
   ]
  },
  {
   "cell_type": "code",
   "execution_count": null,
   "id": "073bded9-bf96-4e25-8acb-3a555f636c8d",
   "metadata": {},
   "outputs": [],
   "source": []
  }
 ],
 "metadata": {
  "kernelspec": {
   "display_name": "Python 3 (ipykernel)",
   "language": "python",
   "name": "python3"
  },
  "language_info": {
   "codemirror_mode": {
    "name": "ipython",
    "version": 3
   },
   "file_extension": ".py",
   "mimetype": "text/x-python",
   "name": "python",
   "nbconvert_exporter": "python",
   "pygments_lexer": "ipython3",
   "version": "3.12.2"
  }
 },
 "nbformat": 4,
 "nbformat_minor": 5
}
